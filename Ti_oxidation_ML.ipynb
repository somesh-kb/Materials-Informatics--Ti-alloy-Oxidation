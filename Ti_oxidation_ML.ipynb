{
  "nbformat": 4,
  "nbformat_minor": 0,
  "metadata": {
    "colab": {
      "name": "Ti-oxidation-ML.ipynb",
      "provenance": [],
      "collapsed_sections": [],
      "authorship_tag": "ABX9TyM8xMx2HRx8gqa7hlGWz65I",
      "include_colab_link": true
    },
    "kernelspec": {
      "name": "python3",
      "display_name": "Python 3"
    }
  },
  "cells": [
    {
      "cell_type": "markdown",
      "metadata": {
        "id": "view-in-github",
        "colab_type": "text"
      },
      "source": [
        "<a href=\"https://colab.research.google.com/github/somesh-kb/Materials-Informatics-Ti-alloy-Oxidation/blob/main/Ti_oxidation_ML.ipynb\" target=\"_parent\"><img src=\"https://colab.research.google.com/assets/colab-badge.svg\" alt=\"Open In Colab\"/></a>"
      ]
    },
    {
      "cell_type": "code",
      "metadata": {
        "colab": {
          "base_uri": "https://localhost:8080/"
        },
        "id": "2HDwYW-OpXQJ",
        "outputId": "bf5c8a1d-f79b-483d-f7a0-7f8248c0b228"
      },
      "source": [
        "from google.colab import drive\r\n",
        "drive.mount('/content/drive')"
      ],
      "execution_count": null,
      "outputs": [
        {
          "output_type": "stream",
          "text": [
            "Mounted at /content/drive\n"
          ],
          "name": "stdout"
        }
      ]
    },
    {
      "cell_type": "code",
      "metadata": {
        "id": "dca0_zwGp6AD"
      },
      "source": [
        "import pandas as pd\r\n",
        "import numpy as np "
      ],
      "execution_count": null,
      "outputs": []
    },
    {
      "cell_type": "code",
      "metadata": {
        "id": "4wsJ6giuqdUR"
      },
      "source": [
        "df = pd.read_excel(r'/content/drive/MyDrive/Ti_Oxidation_dataset_Somesh.xlsx')"
      ],
      "execution_count": null,
      "outputs": []
    },
    {
      "cell_type": "code",
      "metadata": {
        "colab": {
          "base_uri": "https://localhost:8080/"
        },
        "id": "5knil3R_rFLH",
        "outputId": "a1abefe0-78ea-484f-c837-d12c5d55b350"
      },
      "source": [
        "print(df.head(10))"
      ],
      "execution_count": null,
      "outputs": [
        {
          "output_type": "stream",
          "text": [
            "     Alloy     Ti  ...     ln(kP)                                       References\n",
            "0       Ti  99.60  ... -18.556500         J Alloys & Compounds  394 (2005) 240-249\n",
            "1       Ti  99.60  ... -15.457988         J Alloys & Compounds  394 (2005) 240-249\n",
            "2    TiSi8  91.12  ... -24.740649         J Alloys & Compounds  394 (2005) 240-249\n",
            "3    TiSi8  91.12  ... -17.457506         J Alloys & Compounds  394 (2005) 240-249\n",
            "4    TiSi2  97.16  ... -23.503887         J Alloys & Compounds  394 (2005) 240-249\n",
            "5    TiSi2  97.16  ... -17.449902         J Alloys & Compounds  394 (2005) 240-249\n",
            "6  IMI-834  84.44  ... -26.037713            Corrosion Science 51 (2009) 1405-1412\n",
            "7  IMI-834  84.44  ... -28.962827            Corrosion Science 51 (2009) 1405-1412\n",
            "8  IMI-834  84.44  ... -27.032185            Corrosion Science 51 (2009) 1405-1412\n",
            "9     Ti17  83.00  ... -26.041786  Surface & Coatings Technology 223 (2013) 24-31 \n",
            "\n",
            "[10 rows x 31 columns]\n"
          ],
          "name": "stdout"
        }
      ]
    },
    {
      "cell_type": "code",
      "metadata": {
        "colab": {
          "base_uri": "https://localhost:8080/"
        },
        "id": "pNbQckagrHiZ",
        "outputId": "2d3cdbf9-ad16-4ed7-e8d7-f76fe55850bf"
      },
      "source": [
        "print(df.columns)"
      ],
      "execution_count": null,
      "outputs": [
        {
          "output_type": "stream",
          "text": [
            "Index(['Alloy', 'Ti', 'Al', 'V', 'Sn', 'Zr', 'Mo', 'Si', 'Nb', 'Ta', 'Fe',\n",
            "       'Cr', 'W', 'C', 'Gd', 'Nd', 'Y', 'Ga', 'B', 'Hf', 'Ge', 'Phase', 'Temp',\n",
            "       'Time', 'Oxygen', 'Moisture', 'Bal.', 'Oxdn', 'kP', 'ln(kP)',\n",
            "       'References'],\n",
            "      dtype='object')\n"
          ],
          "name": "stdout"
        }
      ]
    },
    {
      "cell_type": "code",
      "metadata": {
        "colab": {
          "base_uri": "https://localhost:8080/"
        },
        "id": "fG8EfrIirS4x",
        "outputId": "b828960f-8a07-4334-c2d3-13db01df1e8c"
      },
      "source": [
        "print(df.dtypes)"
      ],
      "execution_count": null,
      "outputs": [
        {
          "output_type": "stream",
          "text": [
            "Alloy          object\n",
            "Ti            float64\n",
            "Al            float64\n",
            "V             float64\n",
            "Sn            float64\n",
            "Zr            float64\n",
            "Mo            float64\n",
            "Si            float64\n",
            "Nb            float64\n",
            "Ta              int64\n",
            "Fe            float64\n",
            "Cr            float64\n",
            "W             float64\n",
            "C             float64\n",
            "Gd              int64\n",
            "Nd            float64\n",
            "Y               int64\n",
            "Ga            float64\n",
            "B               int64\n",
            "Hf            float64\n",
            "Ge            float64\n",
            "Phase          object\n",
            "Temp            int64\n",
            "Time          float64\n",
            "Oxygen        float64\n",
            "Moisture      float64\n",
            "Bal.           object\n",
            "Oxdn           object\n",
            "kP            float64\n",
            "ln(kP)        float64\n",
            "References     object\n",
            "dtype: object\n"
          ],
          "name": "stdout"
        }
      ]
    },
    {
      "cell_type": "code",
      "metadata": {
        "id": "U3ET_FkhrZRJ"
      },
      "source": [
        "env = pd.get_dummies(df['Bal.'])\r\n",
        "mode = pd.get_dummies(df['Oxdn'])\r\n",
        "phase = pd.get_dummies(df['Phase'])"
      ],
      "execution_count": null,
      "outputs": []
    },
    {
      "cell_type": "code",
      "metadata": {
        "colab": {
          "base_uri": "https://localhost:8080/"
        },
        "id": "GQVExlBvsuxR",
        "outputId": "42ecd0b4-59fa-4769-ea91-9d2d59cc57cd"
      },
      "source": [
        "print(env)"
      ],
      "execution_count": null,
      "outputs": [
        {
          "output_type": "stream",
          "text": [
            "     Air  NIL  Nitrogen  Pure-oxy\n",
            "0      1    0         0         0\n",
            "1      1    0         0         0\n",
            "2      1    0         0         0\n",
            "3      1    0         0         0\n",
            "4      1    0         0         0\n",
            "..   ...  ...       ...       ...\n",
            "114    1    0         0         0\n",
            "115    1    0         0         0\n",
            "116    1    0         0         0\n",
            "117    1    0         0         0\n",
            "118    1    0         0         0\n",
            "\n",
            "[119 rows x 4 columns]\n"
          ],
          "name": "stdout"
        }
      ]
    },
    {
      "cell_type": "code",
      "metadata": {
        "id": "Ces675qrswop"
      },
      "source": [
        "df_merge = pd.concat([df,env,mode,phase],axis=1)"
      ],
      "execution_count": null,
      "outputs": []
    },
    {
      "cell_type": "code",
      "metadata": {
        "id": "8nE8nZgOthNh",
        "colab": {
          "base_uri": "https://localhost:8080/"
        },
        "outputId": "ea97d283-96f7-445c-80c4-c9d905960725"
      },
      "source": [
        "print(df_merge.columns)"
      ],
      "execution_count": null,
      "outputs": [
        {
          "output_type": "stream",
          "text": [
            "Index(['Alloy', 'Ti', 'Al', 'V', 'Sn', 'Zr', 'Mo', 'Si', 'Nb', 'Ta', 'Fe',\n",
            "       'Cr', 'W', 'C', 'Gd', 'Nd', 'Y', 'Ga', 'B', 'Hf', 'Ge', 'Phase', 'Temp',\n",
            "       'Time', 'Oxygen', 'Moisture', 'Bal.', 'Oxdn', 'kP', 'ln(kP)',\n",
            "       'References', 'Air', 'NIL', 'Nitrogen', 'Pure-oxy', 'Cyclic',\n",
            "       'Isothermal', 'Alp+Beta', 'Alpha', 'N-Alpha'],\n",
            "      dtype='object')\n"
          ],
          "name": "stdout"
        }
      ]
    },
    {
      "cell_type": "code",
      "metadata": {
        "id": "Q7MKDitpHiBY"
      },
      "source": [
        "X = df_merge[['Ti', 'Al', 'V', 'Sn', 'Zr', 'Mo', 'Si', 'Nb', 'Ta', 'Fe', 'Cr', 'W', 'C', 'Gd', 'Nd', 'Y', 'Ga', 'B', 'Hf', 'Ge','Temp',\n",
        "       'Time', 'Oxygen', 'Moisture','Cyclic','Isothermal','Air', 'NIL', 'Nitrogen', 'Pure-oxy','Alp+Beta', 'Alpha', 'N-Alpha']]"
      ],
      "execution_count": null,
      "outputs": []
    },
    {
      "cell_type": "code",
      "metadata": {
        "id": "m8Ns5kpQHxJI"
      },
      "source": [
        "Y = np.log(df_merge['kP'])"
      ],
      "execution_count": null,
      "outputs": []
    },
    {
      "cell_type": "code",
      "metadata": {
        "colab": {
          "base_uri": "https://localhost:8080/"
        },
        "id": "iOwSIU-RIiQE",
        "outputId": "be3a66da-067c-414b-b43e-544e315e0e95"
      },
      "source": [
        "print(Y)"
      ],
      "execution_count": null,
      "outputs": [
        {
          "output_type": "stream",
          "text": [
            "0     -18.556500\n",
            "1     -15.457988\n",
            "2     -24.740649\n",
            "3     -17.457506\n",
            "4     -23.503887\n",
            "         ...    \n",
            "114   -28.336241\n",
            "115   -27.712014\n",
            "116   -28.184580\n",
            "117   -27.919237\n",
            "118   -27.766497\n",
            "Name: kP, Length: 119, dtype: float64\n"
          ],
          "name": "stdout"
        }
      ]
    },
    {
      "cell_type": "code",
      "metadata": {
        "id": "ksMoAE1cIkFo"
      },
      "source": [
        "from sklearn.model_selection import train_test_split\n",
        "\n",
        "X_train, X_test, Y_train, Y_test = train_test_split(X,Y,test_size=0.25,random_state=21)"
      ],
      "execution_count": null,
      "outputs": []
    },
    {
      "cell_type": "markdown",
      "metadata": {
        "id": "OWFCSGugV_fr"
      },
      "source": [
        "# **Hyperparameter Optimization for various ML models using Random Search CV**"
      ]
    },
    {
      "cell_type": "markdown",
      "metadata": {
        "id": "v2fIJzkmKQj9"
      },
      "source": [
        "# **SVR**"
      ]
    },
    {
      "cell_type": "code",
      "metadata": {
        "id": "HqRVYysJM0Qu"
      },
      "source": [
        "from sklearn.preprocessing import StandardScaler\n",
        "\n",
        "ss = StandardScaler()\n",
        "\n",
        "X_train_ss = ss.fit_transform(X_train)\n",
        "X_test_ss = ss.fit_transform(X_test)"
      ],
      "execution_count": null,
      "outputs": []
    },
    {
      "cell_type": "code",
      "metadata": {
        "colab": {
          "base_uri": "https://localhost:8080/"
        },
        "id": "KC0fhpnLJv2V",
        "outputId": "2f0fc5ac-5fe9-482a-db4b-1eff271b2207"
      },
      "source": [
        "from sklearn.svm import SVR\n",
        "\n",
        "svr = SVR()\n",
        "\n",
        "print(svr.get_params)"
      ],
      "execution_count": null,
      "outputs": [
        {
          "output_type": "stream",
          "text": [
            "<bound method BaseEstimator.get_params of SVR(C=1.0, cache_size=200, coef0=0.0, degree=3, epsilon=0.1, gamma='scale',\n",
            "    kernel='rbf', max_iter=-1, shrinking=True, tol=0.001, verbose=False)>\n"
          ],
          "name": "stdout"
        }
      ]
    },
    {
      "cell_type": "code",
      "metadata": {
        "colab": {
          "base_uri": "https://localhost:8080/"
        },
        "id": "bcS0H6ehKF2k",
        "outputId": "0d483825-2806-4e26-e758-5df242806444"
      },
      "source": [
        "from sklearn.model_selection import RandomizedSearchCV \n",
        "from sklearn.metrics import r2_score, mean_squared_error\n",
        "\n",
        "C = [x for x in np.arange(0.01,3,0.1)]\n",
        "\n",
        "coef0 = [x for x in np.arange(0.001,0.999,0.0001)]\n",
        "\n",
        "kernel = ['poly','rbf','sigmoid','linear']\n",
        "\n",
        "degree =[int(x) for x in np.arange(2,15)]\n",
        "\n",
        "gamma = ['scale', 'auto']\n",
        "\n",
        "epsilon = [x for x in np.arange(0.01,1.5,0.001)]\n",
        "\n",
        "tol = [x for x in np.arange(0.001,0.1,0.0001)]\n",
        "\n",
        "param_grid = {'C':C, 'coef0':coef0, 'kernel':kernel, 'degree':degree, 'epsilon':epsilon, 'tol':tol,'gamma':gamma}\n",
        "\n",
        "\n",
        "rs_cv = RandomizedSearchCV(estimator=svr, param_distributions=param_grid, n_iter=100, cv=10, n_jobs =-1, random_state=2812,return_train_score=True)\n",
        "rs_cv.fit(X_train_ss,Y_train)\n",
        "print(rs_cv.best_params_)\n",
        "\n",
        "#Y_pred = rs_cv.predict(X_test_ss)\n",
        "#print('RMSE for CV=' + str(fold) + str(np.sqrt(mean_squared_error(Y_test,Y_pred))))\n",
        "\n"
      ],
      "execution_count": null,
      "outputs": [
        {
          "output_type": "stream",
          "text": [
            "{'tol': 0.018300000000000007, 'kernel': 'poly', 'gamma': 'scale', 'epsilon': 0.3109999999999998, 'degree': 7, 'coef0': 0.9636000000000005, 'C': 1.7100000000000002}\n"
          ],
          "name": "stdout"
        }
      ]
    },
    {
      "cell_type": "code",
      "metadata": {
        "colab": {
          "base_uri": "https://localhost:8080/"
        },
        "id": "ZWey8TpPQHDc",
        "outputId": "e4de7b0b-784e-4c56-a2d1-def6a2f5ed69"
      },
      "source": [
        "svr = SVR(tol=0.018300000000000007, kernel= 'poly', gamma= 'scale', epsilon= 0.3109999999999998, degree= 7, coef0= 0.9636000000000005, C= 1.7100000000000002)\n",
        "\n",
        "svr.fit(X_train_ss,Y_train)\n",
        "Y_pred = rs_cv.predict(X_test_ss)\n",
        "print('RMSE =' +  str(np.sqrt(mean_squared_error(Y_test,Y_pred))))\n",
        "print('R2 =' + str(r2_score(Y_test,Y_pred)))"
      ],
      "execution_count": null,
      "outputs": [
        {
          "output_type": "stream",
          "text": [
            "RMSE =2.3752944353595558\n",
            "R2 =0.5015461003353754\n"
          ],
          "name": "stdout"
        }
      ]
    },
    {
      "cell_type": "code",
      "metadata": {
        "colab": {
          "base_uri": "https://localhost:8080/",
          "height": 279
        },
        "id": "WFIKh1Nt9qEW",
        "outputId": "d95214ac-e424-40e8-f271-99745d001166"
      },
      "source": [
        "import matplotlib.pyplot as plt \r\n",
        "\r\n",
        "x = np.arange(-31,-16,1)\r\n",
        "y = x \r\n",
        "\r\n",
        "plt.plot(Y_test,Y_pred,linestyle='none',marker='^',ms=10,color='brown')\r\n",
        "plt.plot(x,y,linestyle='--',color='black')\r\n",
        "plt.xlim(-31,-19)\r\n",
        "plt.ylim(-31,-19)\r\n",
        "plt.xlabel('Experiment')\r\n",
        "plt.ylabel('Predicted')\r\n",
        "plt.show()"
      ],
      "execution_count": null,
      "outputs": [
        {
          "output_type": "display_data",
          "data": {
            "image/png": "[encoded data removed]",
            "text/plain": [
              "<Figure size 432x288 with 1 Axes>"
            ]
          },
          "metadata": {
            "tags": [],
            "needs_background": "light"
          }
        }
      ]
    },
    {
      "cell_type": "markdown",
      "metadata": {
        "id": "Wn527opviRtl"
      },
      "source": [
        "# **Random Forest Regression**"
      ]
    },
    {
      "cell_type": "code",
      "metadata": {
        "colab": {
          "base_uri": "https://localhost:8080/"
        },
        "id": "dCHVQ2aQMIWM",
        "outputId": "669c67e3-46b3-4aec-8473-c0eff6b60f1f"
      },
      "source": [
        "from sklearn.ensemble import RandomForestRegressor\n",
        "\n",
        "rf = RandomForestRegressor()\n",
        "\n",
        "print(rf.get_params)"
      ],
      "execution_count": null,
      "outputs": [
        {
          "output_type": "stream",
          "text": [
            "<bound method BaseEstimator.get_params of RandomForestRegressor(bootstrap=True, ccp_alpha=0.0, criterion='mse',\n",
            "                      max_depth=None, max_features='auto', max_leaf_nodes=None,\n",
            "                      max_samples=None, min_impurity_decrease=0.0,\n",
            "                      min_impurity_split=None, min_samples_leaf=1,\n",
            "                      min_samples_split=2, min_weight_fraction_leaf=0.0,\n",
            "                      n_estimators=100, n_jobs=None, oob_score=False,\n",
            "                      random_state=None, verbose=0, warm_start=False)>\n"
          ],
          "name": "stdout"
        }
      ]
    },
    {
      "cell_type": "code",
      "metadata": {
        "colab": {
          "base_uri": "https://localhost:8080/"
        },
        "id": "ywSy8OCyWV1m",
        "outputId": "bb186154-2573-4a71-d9a9-64485131e4bc"
      },
      "source": [
        "#ccp_alpha = []\n",
        "criterion = ['mse','mae']\n",
        "max_depth = [int(x) for x in np.arange(2,30,1)]\n",
        "max_features = ['auto','sqrt','log2']\n",
        "max_leaf_nodes = [int(x) for x in np.arange(2,10,1)]\n",
        "min_samples_leaf = [int(x) for x in np.arange(2,10,1)]\n",
        "n_estimators = [int(x) for x in np.arange(50,1001,10)]\n",
        "\n",
        "param_grid = {'criterion':criterion, 'max_depth':max_depth, 'max_features':max_features, 'max_leaf_nodes':max_leaf_nodes,\n",
        "              'min_samples_leaf':min_samples_leaf, 'n_estimators':n_estimators}\n",
        "\n",
        "rs_cv = RandomizedSearchCV(estimator=rf,param_distributions=param_grid,n_iter=100,n_jobs =-1,cv=10,random_state=512021,return_train_score=True)\n",
        "rs_cv.fit(X_train,Y_train)\n",
        "print(rs_cv.best_params_)"
      ],
      "execution_count": null,
      "outputs": [
        {
          "output_type": "stream",
          "text": [
            "{'n_estimators': 920, 'min_samples_leaf': 4, 'max_leaf_nodes': 9, 'max_features': 'auto', 'max_depth': 14, 'criterion': 'mse'}\n"
          ],
          "name": "stdout"
        }
      ]
    },
    {
      "cell_type": "code",
      "metadata": {
        "id": "jaSn1xt-aAvr"
      },
      "source": [
        "rf = RandomForestRegressor(n_estimators=920, min_samples_leaf=4, max_leaf_nodes=9, max_features='auto', max_depth=14, criterion='mse',\n",
        "                           random_state=42,bootstrap=True)\n",
        "rf.fit(X_train,Y_train)\n",
        "Y_pred=rf.predict(X_test)"
      ],
      "execution_count": null,
      "outputs": []
    },
    {
      "cell_type": "code",
      "metadata": {
        "colab": {
          "base_uri": "https://localhost:8080/"
        },
        "id": "DhYX22_ChkXt",
        "outputId": "d3f49c6f-d3c6-4d58-994a-6dc35673c93c"
      },
      "source": [
        "print('RMSE = ' + str(np.sqrt(mean_squared_error(Y_test,Y_pred))))\n",
        "print('R2 = ' + str(r2_score(Y_test,Y_pred)))"
      ],
      "execution_count": null,
      "outputs": [
        {
          "output_type": "stream",
          "text": [
            "RMSE = 1.0708673807841498\n",
            "R2 = 0.8986878632027816\n"
          ],
          "name": "stdout"
        }
      ]
    },
    {
      "cell_type": "code",
      "metadata": {
        "colab": {
          "base_uri": "https://localhost:8080/",
          "height": 279
        },
        "id": "4zVDmFu1i7H4",
        "outputId": "2c1a6713-6750-4cac-e2c1-23122bcb38de"
      },
      "source": [
        "import matplotlib.pyplot as plt \n",
        "\n",
        "x = np.arange(-32,-16,1)\n",
        "y=x\n",
        "plt.plot(Y_test,Y_pred,linestyle='none',marker='v',ms=10,color='purple')\n",
        "plt.plot(x,y,linestyle='--',color='black')\n",
        "plt.xlim(-31,-19)\n",
        "plt.ylim(-31,-19)\n",
        "plt.xlabel('Experiment')\n",
        "plt.ylabel('Predicted')\n",
        "plt.show()"
      ],
      "execution_count": null,
      "outputs": [
        {
          "output_type": "display_data",
          "data": {
            "image/png": "[encoded data removed]",
            "text/plain": [
              "<Figure size 432x288 with 1 Axes>"
            ]
          },
          "metadata": {
            "tags": [],
            "needs_background": "light"
          }
        }
      ]
    },
    {
      "cell_type": "markdown",
      "metadata": {
        "id": "A4qSh2gZiZLt"
      },
      "source": [
        "# **Gradient Boosting Regression**"
      ]
    },
    {
      "cell_type": "code",
      "metadata": {
        "id": "rKdBmbk-iB0X",
        "colab": {
          "base_uri": "https://localhost:8080/"
        },
        "outputId": "0e481ea2-2b7a-46e0-d0dd-d9f10572cfe6"
      },
      "source": [
        "from sklearn.ensemble import GradientBoostingRegressor\r\n",
        "\r\n",
        "gb = GradientBoostingRegressor()\r\n",
        "\r\n",
        "print(gb.get_params)"
      ],
      "execution_count": null,
      "outputs": [
        {
          "output_type": "stream",
          "text": [
            "<bound method BaseEstimator.get_params of GradientBoostingRegressor(alpha=0.9, ccp_alpha=0.0, criterion='friedman_mse',\n",
            "                          init=None, learning_rate=0.1, loss='ls', max_depth=3,\n",
            "                          max_features=None, max_leaf_nodes=None,\n",
            "                          min_impurity_decrease=0.0, min_impurity_split=None,\n",
            "                          min_samples_leaf=1, min_samples_split=2,\n",
            "                          min_weight_fraction_leaf=0.0, n_estimators=100,\n",
            "                          n_iter_no_change=None, presort='deprecated',\n",
            "                          random_state=None, subsample=1.0, tol=0.0001,\n",
            "                          validation_fraction=0.1, verbose=0, warm_start=False)>\n"
          ],
          "name": "stdout"
        }
      ]
    },
    {
      "cell_type": "code",
      "metadata": {
        "id": "BT4BwdZiDOrT",
        "colab": {
          "base_uri": "https://localhost:8080/"
        },
        "outputId": "ee7d7116-9ca0-4a1b-91f0-505810372f8f"
      },
      "source": [
        "from sklearn.model_selection import RandomizedSearchCV\n",
        "\n",
        "alpha = [x for x in np.arange(0.05,5.0,0.01)]\n",
        "criterion = ['friedman_mse', 'mse', 'mae']\n",
        "learning_rate = [x for x in np.arange(0.01,0.95,0.001)]\n",
        "loss = ['ls', 'lad', 'huber', 'quantile']\n",
        "max_depth = [int(x) for x in np.arange(2,40,1)]\n",
        "max_leaf_nodes = [int(x) for x in np.arange(2,20,1)]\n",
        "max_features = ['auto', 'sqrt', 'log2']\n",
        "min_samples_split = [int(x) for x in np.arange(2,5,1)]\n",
        "tol = [x for x in np.arange(0.0001,0.01,0.00001)]\n",
        "n_estimators = [int(x) for x in np.arange(50,1001,50)]\n",
        "\n",
        "param_grid = { 'alpha':alpha, 'criterion':criterion, 'learning_rate':learning_rate, 'loss':loss, 'max_depth':max_depth,\n",
        "              'max_leaf_nodes':max_leaf_nodes, 'max_features':max_features, 'min_samples_split':min_samples_split,\n",
        "              'tol':tol, 'n_estimators':n_estimators}\n",
        "\n",
        "rs_cv = RandomizedSearchCV(estimator = gb, param_distributions = param_grid, cv = 10, n_iter =100,n_jobs = -1, random_state = 612021, \n",
        "                           return_train_score=True )\n",
        "rs_cv.fit(X_train,Y_train)\n",
        "print(rs_cv.best_params_)"
      ],
      "execution_count": null,
      "outputs": [
        {
          "output_type": "stream",
          "text": [
            "{'tol': 0.00507, 'n_estimators': 500, 'min_samples_split': 2, 'max_leaf_nodes': 12, 'max_features': 'log2', 'max_depth': 3, 'loss': 'lad', 'learning_rate': 0.06499999999999995, 'criterion': 'mae', 'alpha': 0.7800000000000001}\n"
          ],
          "name": "stdout"
        }
      ]
    },
    {
      "cell_type": "code",
      "metadata": {
        "id": "BN9mT_tjrmC3"
      },
      "source": [
        "gb = GradientBoostingRegressor(tol= 0.00507, n_estimators=500, min_samples_split= 2, max_leaf_nodes= 12, max_features= 'log2', max_depth= 3, \n",
        "                               loss= 'lad', learning_rate= 0.06499999999999995, criterion= 'mae', alpha= 0.7800000000000001)\n",
        "\n",
        "gb.fit(X_train,Y_train)\n",
        "Y_pred = gb.predict(X_test)"
      ],
      "execution_count": null,
      "outputs": []
    },
    {
      "cell_type": "code",
      "metadata": {
        "colab": {
          "base_uri": "https://localhost:8080/"
        },
        "id": "71iU121fs0oF",
        "outputId": "9e07a116-c770-41e0-9b8a-c91a150157cc"
      },
      "source": [
        "from sklearn.metrics import r2_score, mean_squared_error\n",
        "\n",
        "print('R2 = ' + str(r2_score(Y_test,Y_pred)))\n",
        "print('RMSE = ' + str(np.sqrt(mean_squared_error(Y_test,Y_pred))))"
      ],
      "execution_count": null,
      "outputs": [
        {
          "output_type": "stream",
          "text": [
            "R2 = 0.9199877889866995\n",
            "RMSE = 0.9516627886153783\n"
          ],
          "name": "stdout"
        }
      ]
    },
    {
      "cell_type": "code",
      "metadata": {
        "colab": {
          "base_uri": "https://localhost:8080/",
          "height": 300
        },
        "id": "z-SWaSd_tYYZ",
        "outputId": "3ffc0a16-11ab-40d4-f631-d05630260a71"
      },
      "source": [
        "import matplotlib.pyplot as plt \n",
        "\n",
        "x = np.arange(-32,-16,1)\n",
        "y = x\n",
        "\n",
        "plt.plot(Y_test,Y_pred, linestyle='none', marker= '*', ms =10, color='green')\n",
        "plt.plot(x,y,linestyle='--',color='black')\n",
        "plt.xlim(-31,-19)\n",
        "plt.ylim(-31,-19)\n",
        "plt.xlabel('Experimental')\n",
        "plt.ylabel('Predicted')\n",
        "plt.show()"
      ],
      "execution_count": null,
      "outputs": [
        {
          "output_type": "display_data",
          "data": {
            "image/png": "[encoded data removed]",
            "text/plain": [
              "<Figure size 432x288 with 1 Axes>"
            ]
          },
          "metadata": {
            "tags": [],
            "needs_background": "light"
          }
        }
      ]
    },
    {
      "cell_type": "markdown",
      "metadata": {
        "id": "VwX45hBMmN8v"
      },
      "source": [
        "# **Xtreme Gradient Boosting Regression**"
      ]
    },
    {
      "cell_type": "code",
      "metadata": {
        "colab": {
          "base_uri": "https://localhost:8080/"
        },
        "id": "yo1_YGy03uo4",
        "outputId": "402744c1-230e-47f1-ea16-020c0bcf6b8d"
      },
      "source": [
        "from xgboost import XGBRegressor\n",
        "\n",
        "xgb = XGBRegressor()\n",
        "\n",
        "print(xgb.get_params)"
      ],
      "execution_count": null,
      "outputs": [
        {
          "output_type": "stream",
          "text": [
            "<bound method XGBModel.get_params of XGBRegressor(base_score=0.5, booster='gbtree', colsample_bylevel=1,\n",
            "             colsample_bynode=1, colsample_bytree=1, gamma=0,\n",
            "             importance_type='gain', learning_rate=0.1, max_delta_step=0,\n",
            "             max_depth=3, min_child_weight=1, missing=None, n_estimators=100,\n",
            "             n_jobs=1, nthread=None, objective='reg:linear', random_state=0,\n",
            "             reg_alpha=0, reg_lambda=1, scale_pos_weight=1, seed=None,\n",
            "             silent=None, subsample=1, verbosity=1)>\n"
          ],
          "name": "stdout"
        }
      ]
    },
    {
      "cell_type": "code",
      "metadata": {
        "colab": {
          "base_uri": "https://localhost:8080/"
        },
        "id": "9Vdovnpk4k1w",
        "outputId": "7db284d2-b9bb-4a4a-ab5b-5be9b1013eb2"
      },
      "source": [
        "booster = ['gbtree', 'gblinear', 'dart']\n",
        "gamma = [x for x in np.arange(0.01,100,0.5)]\n",
        "learning_rate = [x for x in np.arange(0.0001,0.01,0.00001)]\n",
        "max_depth = [int(x) for x in np.arange(1,100,1)]\n",
        "n_estimators = [int(x) for x in np.arange(10,10001,10)]\n",
        "objective = ['reg:linear', 'reg:squarederror']\n",
        "\n",
        "\n",
        "param_grid = {'booster':booster, 'gamma':gamma, 'learning_rate':learning_rate, 'max_depth':max_depth, \n",
        "              'n_estimators':n_estimators, 'objective':objective}\n",
        "\n",
        "rs_cv = RandomizedSearchCV(estimator = xgb, param_distributions=param_grid, n_iter=100,n_jobs = -1, cv=10, random_state=612021,return_train_score=True)\n",
        "rs_cv.fit(X_train,Y_train)\n",
        "print(rs_cv.best_params_)"
      ],
      "execution_count": null,
      "outputs": [
        {
          "output_type": "stream",
          "text": [
            "{'objective': 'reg:squarederror', 'n_estimators': 5120, 'max_depth': 87, 'learning_rate': 0.00994, 'gamma': 0.51, 'booster': 'gbtree'}\n"
          ],
          "name": "stdout"
        }
      ]
    },
    {
      "cell_type": "code",
      "metadata": {
        "id": "H3XCBj04oHWb"
      },
      "source": [
        "xgb= XGBRegressor(objective= 'reg:squarederror', n_estimators=5120, max_depth=87, learning_rate=0.00994, gamma=0.51, booster='gbtree')\n",
        "xgb.fit(X_train,Y_train)\n",
        "Y_pred = xgb.predict(X_test)"
      ],
      "execution_count": null,
      "outputs": []
    },
    {
      "cell_type": "code",
      "metadata": {
        "colab": {
          "base_uri": "https://localhost:8080/"
        },
        "id": "6k7OMgcEokcb",
        "outputId": "90362f59-4d80-40ff-aab2-b942cd47e03c"
      },
      "source": [
        "print('R2 = ' + str(r2_score(Y_test,Y_pred)))\n",
        "print('RMSE = ' + str(mean_squared_error(Y_test,Y_pred)))"
      ],
      "execution_count": null,
      "outputs": [
        {
          "output_type": "stream",
          "text": [
            "R2 = 0.9529414378519367\n",
            "RMSE = 0.5326581274052303\n"
          ],
          "name": "stdout"
        }
      ]
    },
    {
      "cell_type": "code",
      "metadata": {
        "colab": {
          "base_uri": "https://localhost:8080/",
          "height": 300
        },
        "id": "gUCnqFxpo4bX",
        "outputId": "577814c5-830e-4867-8065-fed6f8c588a2"
      },
      "source": [
        "x = np.arange(-32,-16,1)\n",
        "y = x\n",
        "\n",
        "plt.plot(Y_test,Y_pred, linestyle='none', marker= 'p', ms =12, color='blue')\n",
        "plt.plot(x,y,linestyle='--',color='black')\n",
        "plt.xlim(-31,-19)\n",
        "plt.ylim(-31,-19)\n",
        "plt.xlabel('Experimental')\n",
        "plt.ylabel('Predicted')\n",
        "plt.show()"
      ],
      "execution_count": null,
      "outputs": [
        {
          "output_type": "display_data",
          "data": {
            "image/png": "[encoded data removed]",
            "text/plain": [
              "<Figure size 432x288 with 1 Axes>"
            ]
          },
          "metadata": {
            "tags": [],
            "needs_background": "light"
          }
        }
      ]
    }
  ]
}